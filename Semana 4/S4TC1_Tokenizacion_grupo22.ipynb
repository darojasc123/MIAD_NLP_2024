{
 "cells": [
  {
   "cell_type": "markdown",
   "metadata": {},
   "source": [
    "![image info](https://raw.githubusercontent.com/albahnsen/MIAD_ML_and_NLP/main/images/banner_1.png)"
   ]
  },
  {
   "cell_type": "markdown",
   "metadata": {},
   "source": [
    "### <center>  Grupo 22 </center>\n",
    "\n",
    "<center>David Alejandro Rojas Castro - da.rojasc123@uniandes.edu.co </center>\n",
    "<center>Camila Malagón Suarez - c.malagons@uniandes.edu.co</center>\n",
    "<center>Luis David Gutierrez - ld.gutierrezl1@uniandes.edu.co</center>\n",
    "<center>David Zapata Vásquez - d.zapata11@uniandes.edu.co</center>"
   ]
  },
  {
   "cell_type": "markdown",
   "metadata": {},
   "source": [
    "# Taller: Tokenización de textos  \n",
    "\n",
    "En este taller podrán poner en práctica sus conocimientos sobre preprocesamiento de texto (tokenización). El taller está constituido por 5 puntos, en los cuales deberan seguir las intrucciones de cada numeral para su desarrollo."
   ]
  },
  {
   "cell_type": "markdown",
   "metadata": {},
   "source": [
    "## Datos detección de toxicidad en comentarios\n",
    "\n",
    "En este taller se usará el conjunto de datos de detección de toxicidad en comentarios de la base de datos de Kaggle. Cada observación es un comentario que tiene como variable objetivo (target) la probabilidad de ser un comentario tóxico. El objetivo es predecir la toxicidad de cada comentario. Para más detalles pueden visitar el siguiente enlace: [datos](https://www.kaggle.com/c/jigsaw-unintended-bias-in-toxicity-classification/data)."
   ]
  },
  {
   "cell_type": "code",
   "execution_count": 6,
   "metadata": {},
   "outputs": [],
   "source": [
    "import warnings\n",
    "warnings.filterwarnings('ignore')"
   ]
  },
  {
   "cell_type": "code",
   "execution_count": 19,
   "metadata": {},
   "outputs": [],
   "source": [
    "# Importación librerías\n",
    "import pandas as pd\n",
    "import numpy as np\n",
    "import scipy as sp\n",
    "from sklearn.model_selection import train_test_split, cross_val_score\n",
    "from sklearn.feature_extraction.text import CountVectorizer, TfidfVectorizer\n",
    "from sklearn import metrics\n",
    "from sklearn.ensemble import RandomForestRegressor\n",
    "from sklearn.metrics import mean_squared_error\n",
    "import matplotlib.pyplot as plt\n",
    "\n",
    "%matplotlib inline"
   ]
  },
  {
   "cell_type": "code",
   "execution_count": 8,
   "metadata": {},
   "outputs": [
    {
     "data": {
      "text/html": [
       "<div>\n",
       "<style scoped>\n",
       "    .dataframe tbody tr th:only-of-type {\n",
       "        vertical-align: middle;\n",
       "    }\n",
       "\n",
       "    .dataframe tbody tr th {\n",
       "        vertical-align: top;\n",
       "    }\n",
       "\n",
       "    .dataframe thead th {\n",
       "        text-align: right;\n",
       "    }\n",
       "</style>\n",
       "<table border=\"1\" class=\"dataframe\">\n",
       "  <thead>\n",
       "    <tr style=\"text-align: right;\">\n",
       "      <th></th>\n",
       "      <th>id</th>\n",
       "      <th>comment_text</th>\n",
       "      <th>target</th>\n",
       "    </tr>\n",
       "  </thead>\n",
       "  <tbody>\n",
       "    <tr>\n",
       "      <th>0</th>\n",
       "      <td>6101457</td>\n",
       "      <td>What are you talking about? What group do Pete...</td>\n",
       "      <td>0.0</td>\n",
       "    </tr>\n",
       "    <tr>\n",
       "      <th>1</th>\n",
       "      <td>5342103</td>\n",
       "      <td>NO!, Let him, we need a Conservative government.</td>\n",
       "      <td>0.0</td>\n",
       "    </tr>\n",
       "    <tr>\n",
       "      <th>2</th>\n",
       "      <td>743361</td>\n",
       "      <td>Perhaps he took the \"power out of the Cardinal...</td>\n",
       "      <td>0.2</td>\n",
       "    </tr>\n",
       "    <tr>\n",
       "      <th>3</th>\n",
       "      <td>551008</td>\n",
       "      <td>As always, yours is dripping with sarcasm, whi...</td>\n",
       "      <td>0.0</td>\n",
       "    </tr>\n",
       "    <tr>\n",
       "      <th>4</th>\n",
       "      <td>865998</td>\n",
       "      <td>The dirty little secret is that the price rang...</td>\n",
       "      <td>0.3</td>\n",
       "    </tr>\n",
       "  </tbody>\n",
       "</table>\n",
       "</div>"
      ],
      "text/plain": [
       "        id                                       comment_text  target\n",
       "0  6101457  What are you talking about? What group do Pete...     0.0\n",
       "1  5342103   NO!, Let him, we need a Conservative government.     0.0\n",
       "2   743361  Perhaps he took the \"power out of the Cardinal...     0.2\n",
       "3   551008  As always, yours is dripping with sarcasm, whi...     0.0\n",
       "4   865998  The dirty little secret is that the price rang...     0.3"
      ]
     },
     "execution_count": 8,
     "metadata": {},
     "output_type": "execute_result"
    }
   ],
   "source": [
    "# Carga de datos de archivos .csv\n",
    "df = pd.read_csv('https://raw.githubusercontent.com/albahnsen/MIAD_ML_and_NLP/main/datasets/Toxicity.zip')\n",
    "df = df[['id','comment_text', 'target']]\n",
    "df.head()"
   ]
  },
  {
   "cell_type": "code",
   "execution_count": 10,
   "metadata": {},
   "outputs": [
    {
     "data": {
      "text/plain": [
       "(541462, 3)"
      ]
     },
     "execution_count": 10,
     "metadata": {},
     "output_type": "execute_result"
    }
   ],
   "source": [
    "df.shape"
   ]
  },
  {
   "cell_type": "code",
   "execution_count": 11,
   "metadata": {},
   "outputs": [
    {
     "data": {
      "text/plain": [
       "<Axes: >"
      ]
     },
     "execution_count": 11,
     "metadata": {},
     "output_type": "execute_result"
    },
    {
     "data": {
      "image/png": "[encoded data removed]",
      "text/plain": [
       "<Figure size 640x480 with 1 Axes>"
      ]
     },
     "metadata": {},
     "output_type": "display_data"
    }
   ],
   "source": [
    "# Impresión histograma de variable de interés (y)\n",
    "df.target.hist()"
   ]
  },
  {
   "cell_type": "code",
   "execution_count": 12,
   "metadata": {},
   "outputs": [
    {
     "data": {
      "text/plain": [
       "count    541462.000000\n",
       "mean          0.102991\n",
       "std           0.196979\n",
       "min           0.000000\n",
       "25%           0.000000\n",
       "50%           0.000000\n",
       "75%           0.166667\n",
       "max           1.000000\n",
       "Name: target, dtype: float64"
      ]
     },
     "execution_count": 12,
     "metadata": {},
     "output_type": "execute_result"
    }
   ],
   "source": [
    "# Separación de variable de interés (y)\n",
    "y = df.target\n",
    "y.describe()"
   ]
  },
  {
   "cell_type": "code",
   "execution_count": 13,
   "metadata": {},
   "outputs": [],
   "source": [
    "# Separación de variables predictoras (X), solo se considera el texto de la noticia\n",
    "X = df.comment_text"
   ]
  },
  {
   "cell_type": "code",
   "execution_count": 14,
   "metadata": {},
   "outputs": [],
   "source": [
    "# Separación de datos en set de entrenamiento y test\n",
    "X_train, X_test, y_train, y_test = train_test_split(X, y, test_size=0.33, random_state=42)"
   ]
  },
  {
   "cell_type": "markdown",
   "metadata": {},
   "source": [
    "## Punto 1 - Tokenización con CountVectorizer\n",
    "\n",
    "En la celda 1 creen y entrenen el modelo de regresión de su preferencia, para que prediga la probabilidad de que un comentario sea tóxico, usando los set de entrenamiento y test definidos anteriormente. Usen la función **CountVectorizer** para preprocesar los comentarios y presenten el desempeño del modelo con la métrica del MSE.\n",
    "\n",
    "Recuerden que el preprocesamiento que se haga sobre los datos de entrenamiento  (*.fit_transform()*) deben ser aplicado al set de test (*.transform()*)."
   ]
  },
  {
   "cell_type": "code",
   "execution_count": 15,
   "metadata": {},
   "outputs": [
    {
     "name": "stdout",
     "output_type": "stream",
     "text": [
      "MSE:  0.031405552289863845\n"
     ]
    }
   ],
   "source": [
    "# Celda 1\n",
    "\n",
    "## Tokenización de las variables predictoras del set de entrenamiento y testeo\n",
    "tokenizacion = CountVectorizer(lowercase= False)\n",
    "vector_Xtrain_tokenizado = tokenizacion.fit_transform(X_train)\n",
    "vector_Xtest_tokenizado = tokenizacion.transform(X_test)\n",
    "\n",
    "\n",
    "## Crear modelo de regresión - RandomForestRegressor\n",
    "random_forest = RandomForestRegressor(n_estimators= 15, max_depth= 10)\n",
    "random_forest.fit(vector_Xtrain_tokenizado,y_train)\n",
    "y_pred = random_forest.predict(vector_Xtest_tokenizado)\n",
    "print('MSE: ',mean_squared_error(y_test, y_pred))"
   ]
  },
  {
   "cell_type": "markdown",
   "metadata": {},
   "source": [
    "## Punto 2 - Tokenización con CountVectorizer y trigramas\n",
    "\n",
    "En la celda 2 creen y entrenen el mismo modelo de regresión del punto anterior (es decir si usaron un RandomForestRegresor usen nuevamente ese regresor), para que prediga la probabilidad de que un comentario sea tóxico, usando los set de entrenamiento y test definidos anteriormente. Usen la función CountVectorizer **considerando trigramas** para preprocesar los comentarios y presenten el desempeño del modelo con la métrica del MSE.\n",
    "\n",
    "Recuerden que el preprocesamiento que se haga sobre los datos de entrenamiento  (*.fit_transform()*) deben ser aplicado al set de test (*.transform()*)."
   ]
  },
  {
   "cell_type": "code",
   "execution_count": 16,
   "metadata": {},
   "outputs": [
    {
     "name": "stdout",
     "output_type": "stream",
     "text": [
      "MSE:  0.038437065443586924\n"
     ]
    }
   ],
   "source": [
    "# Celda 2\n",
    "## Tokenización de las variables predictoras del set de entrenamiento y testeo\n",
    "tokenizacion2 = CountVectorizer(lowercase= False, ngram_range=(3,3))\n",
    "vector_Xtrain_tokenizado2 = tokenizacion2.fit_transform(X_train)\n",
    "vector_Xtest_tokenizado2 = tokenizacion2.transform(X_test)\n",
    "\n",
    "\n",
    "## Crear modelo de regresión - RandomForestRegressor\n",
    "random_forest2 = RandomForestRegressor(n_estimators= 15, max_depth= 10)\n",
    "random_forest2.fit(vector_Xtrain_tokenizado2,y_train)\n",
    "y_pred2 = random_forest2.predict(vector_Xtest_tokenizado2)\n",
    "print('MSE: ',mean_squared_error(y_test, y_pred2))"
   ]
  },
  {
   "cell_type": "markdown",
   "metadata": {},
   "source": [
    "## Punto 3 - TfidfVectorizer\n",
    "\n",
    "Investigen sobre la función TfidfVectorizer. En la celda de texto 3, expliquen en qué consiste esta técnica de tokenización (describanla y expliquen su funcionamiento) y cúales son las ventajas o deventajas de su uso al compararlo con la función CountVectorizer."
   ]
  },
  {
   "cell_type": "markdown",
   "metadata": {},
   "source": [
    "#Celda 3\n",
    "\n",
    "La función TF IDF Vectorizer realiza una tokenización ponderando los términos de acuerdo a su frecuencia de aparición en cada documento y en otros documentos. Los términos que tiene una frecuencia de aparición alta en un documento de interés y en otros documentos reciben una ponderación menor, dado que la función identifica que son palabras que suelen ser utilizadas frecuentemente en los textos sin brindar información clave sobre el mismo. Mientras que los términos que son utilizados en menos documentos tendrán una ponderación mayor, ya que permitirán clasificar y diferenciar a un texto de otros. La función TfidfVectorizer internamente hace la ponderación interdocumento y entre documentos de los tokens, eliminando palabras como articulos y stopwords que no ofrecen información relevante para la predección, siendo esta su principal ventaja frente al uso de la función CountVectorizer la cual pondera las palabras únicamente en función de su frecuencia de aparición. Si bien, la función CountVectorize puede filtrar las palabras que no ofrecen información relevante, lo realiza mediante el uso de múltiples parametros como stopwords y de otras técnicas más complejas que el uso de la función TfidfVectorizer.  \n"
   ]
  },
  {
   "cell_type": "markdown",
   "metadata": {},
   "source": [
    "## Punto 4 - Tokenización con TfidfVectorizer\n",
    "\n",
    "En la celda 4 creen y entrenen el mismo modelo de regresión del primer punto, para que prediga la probabilidad de que un comentario sea tóxico, usando los set de entrenamiento y test definidos anteriormente. Procesen los comentarios con la función **TfidfVectorizer** y presenten el desempeño del modelo con la métrica del MSE.\n",
    "\n",
    "Recuerden que el preprocesamiento que se haga sobre los datos de entrenamiento  (*.fit_transform()*) deben ser aplicado al set de test (*.transform()*)."
   ]
  },
  {
   "cell_type": "code",
   "execution_count": 18,
   "metadata": {},
   "outputs": [
    {
     "name": "stdout",
     "output_type": "stream",
     "text": [
      "MSE:  0.03134025642453577\n"
     ]
    }
   ],
   "source": [
    "# Celda 4\n",
    "\n",
    "## Tokenización de las variables predictoras del set de entrenamiento y testeo usando TfidfVectorizer\n",
    "tokenizacion_tfidf = TfidfVectorizer(lowercase= False)\n",
    "vector_Xtrain_tokenizado_tfidf = tokenizacion_tfidf.fit_transform(X_train)\n",
    "vector_Xtest_tokenizado_tfidf = tokenizacion_tfidf.transform(X_test)\n",
    "\n",
    "\n",
    "## Crear modelo de regresión - RandomForestRegressor\n",
    "random_forest3 = RandomForestRegressor(n_estimators= 15, max_depth= 10)\n",
    "random_forest3.fit(vector_Xtrain_tokenizado_tfidf,y_train)\n",
    "y_pred3 = random_forest3.predict(vector_Xtest_tokenizado_tfidf)\n",
    "\n",
    "print('MSE: ',mean_squared_error(y_test, y_pred3))"
   ]
  },
  {
   "cell_type": "markdown",
   "metadata": {},
   "source": [
    "## Punto 5 - Comparación y análisis de resultados\n",
    "\n",
    "En la celda 5 comparen los resultados obtenidos de los diferentes modelos y comenten cómo el preprocesamiento de texto afecta el desempeño."
   ]
  },
  {
   "cell_type": "code",
   "execution_count": 26,
   "metadata": {},
   "outputs": [
    {
     "data": {
      "image/png": "[encoded data removed]",
      "text/plain": [
       "<Figure size 800x600 with 1 Axes>"
      ]
     },
     "metadata": {},
     "output_type": "display_data"
    }
   ],
   "source": [
    "# Celda 5\n",
    "MSE_Count_vect = mean_squared_error(y_test, y_pred)\n",
    "MSE_Count_vect_trigramas = mean_squared_error(y_test, y_pred2)\n",
    "MSE_TFIDF = mean_squared_error(y_test, y_pred3)\n",
    "\n",
    "modelos = ['CountVect','CountVectTrigramas','TfidfVect']\n",
    "valores = [MSE_Count_vect,MSE_Count_vect_trigramas,MSE_TFIDF]\n",
    "\n",
    "plt.figure(figsize=(8, 6))\n",
    "plt.bar(modelos, valores, color='skyblue')\n",
    "\n",
    "# Títulos y etiquetas\n",
    "plt.title('MSE de los Modelos')\n",
    "plt.xlabel('Modelos')\n",
    "plt.ylabel('MSE')\n",
    "\n",
    "# Mostrar la gráfica\n",
    "plt.show()"
   ]
  },
  {
   "cell_type": "markdown",
   "metadata": {},
   "source": [
    "**Análisis de resultados**\n",
    "\n",
    "Posterior al entrenamiento y generación de predicciones de los modelos RandomForestRegressor con 15 árboles y profundidad de 10 para cada uno se encontraron los siguientes MSE:\n",
    "\n",
    "- Modelo 1 - Usando CountVectorizer por defecto: MSE 0.0314\n",
    "- Modelo 2 - Usando CountVectorizer tokenizando usando Trigramas por defecto: MSE 0.0384\n",
    "- Modelo 3 - Usando TF-IDF Vectorizer por defecto: MSE 0.0313\n",
    "\n",
    "Con una diferencia de 0.0001 en el MSE, el modelo con menor error fue el #3, diferencia muy baja pero que puede ser explicada en la diferencia en la ponderación de cada token a la hora crear las matrices de pesos. En el caso de TF-IDF, se tiene en cuenta la importancia relativa de cada token dentro del corpus (texto completo), mientras que CountVectorizer solo tiene en cuenta la frecuencia de aparición de cada token en un mismo documento (oración o división del texto).\n",
    "\n",
    "Por otro lado, dada la naturaleza del dataset usado, resulta inconveniente aplicar la tokenización usando trigramas dado que el MSE aumenta ligeramente y el tiempo tomado para el entrenamiento y predicción aumenta considerablemente. A continuación, se muestran los tiempos tomados para tokenizar, entrenar y encontrar predicciones para cada modelo (tiempos de referencia dada la ejecución en un equipo específico).\n",
    "\n",
    "- Modelo 1 - 3 minutos 29 segundos\n",
    "- Modelo 2 - 29 minutos 52 segundos\n",
    "- Modelo 3 - 9 minutos 52 segundos\n",
    "\n",
    "Teniendo en cuenta los resultados anteriores, se puede concluir que el mejor modelo es el #1 usando Tokenización con unigramas y CountVectorizer dado que la diferencia en el MSE versus el modelo usando TFIDF es mínima pero el tiempo de ejecución si representa un cambio a tener en cuenta.\n",
    "\n"
   ]
  },
  {
   "cell_type": "markdown",
   "metadata": {},
   "source": []
  }
 ],
 "metadata": {
  "kernelspec": {
   "display_name": "Python 3 (ipykernel)",
   "language": "python",
   "name": "python3"
  },
  "language_info": {
   "codemirror_mode": {
    "name": "ipython",
    "version": 3
   },
   "file_extension": ".py",
   "mimetype": "text/x-python",
   "name": "python",
   "nbconvert_exporter": "python",
   "pygments_lexer": "ipython3",
   "version": "3.10.0rc2"
  },
  "name": "_merged"
 },
 "nbformat": 4,
 "nbformat_minor": 4
}
